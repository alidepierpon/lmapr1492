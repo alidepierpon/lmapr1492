{
 "cells": [
  {
   "cell_type": "code",
   "execution_count": 65,
   "metadata": {},
   "outputs": [],
   "source": [
    "#importer le cif et les packages utiles\n",
    "import numpy\n",
    "from pymatgen.symmetry.analyzer import SpacegroupAnalyzer\n",
    "from pymatgen.core.operations import SymmOp\n",
    "from pymatgen.ext.matproj import MPRester\n",
    "from pymatgen.io.cif import CifWriter\n",
    "with MPRester(\"im80MbCif8QDmhc2y\") as m:\n",
    "    structure = m.get_structure_by_material_id(\"mp-38011\")\n",
    "    w = CifWriter(structure)\n",
    "    w.write_file('KHS_mp-38011_symmetrized')"
   ]
  },
  {
   "cell_type": "code",
   "execution_count": 94,
   "metadata": {},
   "outputs": [
    {
     "name": "stdout",
     "output_type": "stream",
     "text": [
      "Position initiale de l'atome H :\n",
      "[4.75035057 3.26886028 2.49641778]\n",
      "\n",
      " Position initiale de l'atome K :\n",
      "[0.00787482 0.0054189  0.0041384 ]\n",
      "\n",
      " Position initiale de l'atome s :\n",
      "[3.72803128 2.56537138 1.95916564]\n"
     ]
    }
   ],
   "source": [
    "Sg = SpacegroupAnalyzer(structure)\n",
    "struct2 = Sg.get_primitive_standard_structure()\n",
    "Sgnew = SpacegroupAnalyzer(struct2)\n",
    "\n",
    "\n",
    "\n",
    "Hpos = structure.sites[0].coords\n",
    "Kpos = structure.sites[1].coords\n",
    "Spos = structure.sites[2].coords\n",
    "\n",
    "print('Position initiale de l\\'atome H :')\n",
    "print(Hpos)\n",
    "print('\\n Position initiale de l\\'atome K :')\n",
    "print(Kpos)\n",
    "print('\\n Position initiale de l\\'atome s :')\n",
    "print(Spos)"
   ]
  },
  {
   "cell_type": "code",
   "execution_count": 92,
   "metadata": {
    "scrolled": true
   },
   "outputs": [
    {
     "name": "stdout",
     "output_type": "stream",
     "text": [
      "Symétrie 1 : \n",
      " \n",
      " Matrice de rotation :\n",
      "[[0. 1. 0.]\n",
      " [0. 0. 1.]\n",
      " [1. 0. 0.]]\n",
      "\n",
      " Vecteur de translation : \n",
      "[0. 0. 0.]\n",
      "\n",
      " Equation pour la nouvelle position de l'atome K :\n",
      "[[0. 1. 0.]\n",
      " [0. 0. 1.]\n",
      " [1. 0. 0.]] * [0.00787482 0.0054189  0.0041384 ] + [0. 0. 0.] = [0.0054189  0.0041384  0.00787482]\n",
      "\n",
      "\n",
      " Symétrie 2 : \n",
      " \n",
      " Matrice de rotation :\n",
      "[[0. 0. 1.]\n",
      " [1. 0. 0.]\n",
      " [0. 1. 0.]]\n",
      "\n",
      " Vecteur de translation : \n",
      "[0. 0. 0.]\n",
      "\n",
      " Equation pour la nouvelle position de l'atome H :\n",
      "[[0. 0. 1.]\n",
      " [1. 0. 0.]\n",
      " [0. 1. 0.]] * [4.75035057 3.26886028 2.49641778] + [0. 0. 0.] = [2.49641778 4.75035057 3.26886028]\n",
      "\n",
      "\n",
      " Symétrie 3 : \n",
      " \n",
      " Matrice de rotation :\n",
      "[[1. 0. 0.]\n",
      " [0. 0. 1.]\n",
      " [0. 1. 0.]]\n",
      "\n",
      " Vecteur de translation : \n",
      "[0. 0. 0.]\n",
      "\n",
      " Equation pour la nouvelle position de l'atome S :\n",
      "[[1. 0. 0.]\n",
      " [0. 0. 1.]\n",
      " [0. 1. 0.]] * [3.72803128 2.56537138 1.95916564] + [0. 0. 0.] = [3.72803128 1.95916564 2.56537138]\n"
     ]
    }
   ],
   "source": [
    "symetries = Sgnew.get_symmetry_operations()[1:4:1]\n",
    "\n",
    "\n",
    "rot0 = symetries[0].rotation_matrix\n",
    "rot1 = symetries[1].rotation_matrix\n",
    "rot2 = symetries[2].rotation_matrix\n",
    "\n",
    "vect0 = symetries[0].translation_vector\n",
    "vect1 = symetries[1].translation_vector\n",
    "vect2 = symetries[2].translation_vector\n",
    "\n",
    "Knew = symetries[0].operate(Kpos)\n",
    "Hnew = symetries[1].operate(Hpos)\n",
    "Snew = symetries[2].operate(Spos)\n",
    "\n",
    "\n",
    "\n",
    "\n",
    "print('Symétrie 1 : ')\n",
    "print(' \\n Matrice de rotation :')\n",
    "print(rot0)\n",
    "print('\\n Vecteur de translation : ')\n",
    "print(vect0)\n",
    "print('\\n Equation pour la nouvelle position de l\\'atome K :')\n",
    "print(rot0, '*',Kpos,'+',vect0,'=',Knew)\n",
    "\n",
    "\n",
    "\n",
    "print('\\n\\n Symétrie 2 : ')\n",
    "print(' \\n Matrice de rotation :')\n",
    "print(rot1)\n",
    "print('\\n Vecteur de translation : ')\n",
    "print(vect1)\n",
    "print('\\n Equation pour la nouvelle position de l\\'atome H :')\n",
    "print(rot1, '*',Hpos,'+',vect1,'=',Hnew)\n",
    "\n",
    "\n",
    "\n",
    "print('\\n\\n Symétrie 3 : ')\n",
    "print(' \\n Matrice de rotation :')\n",
    "print(rot2)\n",
    "print('\\n Vecteur de translation : ')\n",
    "print(vect2)\n",
    "print('\\n Equation pour la nouvelle position de l\\'atome S :')\n",
    "print(rot2, '*',Spos,'+',vect2,'=',Snew)\n",
    "\n",
    "\n",
    "\n",
    "\n"
   ]
  },
  {
   "cell_type": "code",
   "execution_count": null,
   "metadata": {
    "scrolled": true
   },
   "outputs": [],
   "source": []
  },
  {
   "cell_type": "markdown",
   "metadata": {},
   "source": [
    "\n"
   ]
  }
 ],
 "metadata": {
  "kernelspec": {
   "display_name": "Python 3",
   "language": "python",
   "name": "python3"
  },
  "language_info": {
   "codemirror_mode": {
    "name": "ipython",
    "version": 3
   },
   "file_extension": ".py",
   "mimetype": "text/x-python",
   "name": "python",
   "nbconvert_exporter": "python",
   "pygments_lexer": "ipython3",
   "version": "3.6.8"
  }
 },
 "nbformat": 4,
 "nbformat_minor": 2
}
