{
 "cells": [
  {
   "cell_type": "markdown",
   "metadata": {},
   "source": [
    "# Analyse de matériau : le KHS"
   ]
  },
  {
   "cell_type": "code",
   "execution_count": 2,
   "metadata": {},
   "outputs": [],
   "source": [
    "# importer le cif\n",
    "from pymatgen.symmetry.analyzer import SpacegroupAnalyzer \n",
    "from pymatgen.ext.matproj import MPRester\n",
    "from pymatgen.io.cif import CifWriter\n",
    "with MPRester(\"im80MbCif8QDmhc2y\") as m:\n",
    "    structure = m.get_structure_by_material_id(\"mp-38011\")\n",
    "    w = CifWriter(structure)\n",
    "    w.write_file('KHS_mp-38011_symmetrized')\n"
   ]
  },
  {
   "cell_type": "markdown",
   "metadata": {},
   "source": [
    "## 1. Reseau direct"
   ]
  },
  {
   "cell_type": "code",
   "execution_count": 4,
   "metadata": {},
   "outputs": [
    {
     "name": "stdout",
     "output_type": "stream",
     "text": [
      "Les vecteurs de base du réseau direct sont :  \n",
      " [[ 4.35623009 -0.05148404 -0.03931819]\n",
      " [ 1.50835614  4.08708383 -0.0393182 ]\n",
      " [ 1.50835614  1.03794544  3.9532861 ]]\n",
      "Les longeurs des vecteurs de base (abc) sont :  (4.356711732885366, 4.356711879316144, 4.3567120595634625)\n",
      "Les angles des vecteurs de base (alpha, beta, gama) sont :  (70.41702546871082, 70.41702302415402, 70.41702214361622)\n"
     ]
    }
   ],
   "source": [
    "# trouver les vecteurs de base du réseau direct \n",
    "vectDeBase = structure.lattice.matrix\n",
    "abcBase = structure.lattice.abc\n",
    "anglesBase = structure.lattice.angles\n",
    "print('Les vecteurs de base du réseau direct sont : ','\\n', vectDeBase)\n",
    "print('Les longeurs des vecteurs de base (abc) sont : ', abcBase)\n",
    "print('Les angles des vecteurs de base (alpha, beta, gama) sont : ', anglesBase)"
   ]
  },
  {
   "cell_type": "markdown",
   "metadata": {},
   "source": [
    "## 2. Reseau réciproque"
   ]
  },
  {
   "cell_type": "code",
   "execution_count": 5,
   "metadata": {},
   "outputs": [
    {
     "name": "stdout",
     "output_type": "stream",
     "text": [
      "\n",
      " Les vecteurs de base du réseau réciproque sont :  \n",
      " [[ 1.43238013 -0.53253862 -0.40669795]\n",
      " [ 0.01438913  1.52810439 -0.40669784]\n",
      " [ 0.01438913  0.0099016   1.58126781]]\n",
      "Les longeurs des vecteurs du réseau réciproque (abc) sont :  (1.5813644278065164, 1.5813643506539141, 1.581364276583468)\n",
      "Les angles des vecteurs du réseau réciproque (alpha, beta, gama) sont :  (104.53862376480065, 104.53862711815694, 104.53862832604739)\n"
     ]
    }
   ],
   "source": [
    "# trouver les vecteurs de base du réseau réciproque\n",
    "vectReciproque = structure.lattice.reciprocal_lattice.matrix\n",
    "abcReciproque = structure.lattice.reciprocal_lattice.abc\n",
    "anglesReciproque = structure.lattice.reciprocal_lattice.angles\n",
    "print('\\n Les vecteurs de base du réseau réciproque sont : ','\\n', vectReciproque)\n",
    "print('Les longeurs des vecteurs du réseau réciproque (abc) sont : ', abcReciproque)\n",
    "print('Les angles des vecteurs du réseau réciproque (alpha, beta, gama) sont : ', anglesReciproque)"
   ]
  },
  {
   "cell_type": "markdown",
   "metadata": {},
   "source": [
    "## 3. Type de maille"
   ]
  },
  {
   "cell_type": "code",
   "execution_count": 6,
   "metadata": {},
   "outputs": [
    {
     "name": "stdout",
     "output_type": "stream",
     "text": [
      "\n",
      " Le type de maille est :  rhombohedral\n"
     ]
    }
   ],
   "source": [
    "# trouver le type de maille\n",
    "s = SpacegroupAnalyzer(structure)\n",
    "typeMaille = s.get_lattice_type()\n",
    "print('\\n Le type de maille est : ',typeMaille)"
   ]
  },
  {
   "cell_type": "markdown",
   "metadata": {},
   "source": [
    "## 4. Système cristallin"
   ]
  },
  {
   "cell_type": "code",
   "execution_count": 7,
   "metadata": {},
   "outputs": [
    {
     "name": "stdout",
     "output_type": "stream",
     "text": [
      "\n",
      " Le système cristallin est :  trigonal\n"
     ]
    }
   ],
   "source": [
    "\n",
    "# trouver le systeme cristallin\n",
    "systCrist = s.get_crystal_system()\n",
    "print('\\n Le système cristallin est : ',systCrist)"
   ]
  },
  {
   "cell_type": "markdown",
   "metadata": {},
   "source": [
    "## 5. Groupe ponctuel"
   ]
  },
  {
   "cell_type": "code",
   "execution_count": 9,
   "metadata": {},
   "outputs": [
    {
     "name": "stdout",
     "output_type": "stream",
     "text": [
      "\n",
      " Le groupe ponctuel est :  3m\n"
     ]
    }
   ],
   "source": [
    "# trouver le groupe ponctuel \n",
    "grPonct = s.get_point_group_symbol()\n",
    "print('\\n Le groupe ponctuel est : ',grPonct)\n"
   ]
  }
 ],
 "metadata": {
  "kernelspec": {
   "display_name": "Python 3",
   "language": "python",
   "name": "python3"
  },
  "language_info": {
   "codemirror_mode": {
    "name": "ipython",
    "version": 3
   },
   "file_extension": ".py",
   "mimetype": "text/x-python",
   "name": "python",
   "nbconvert_exporter": "python",
   "pygments_lexer": "ipython3",
   "version": "3.6.8"
  }
 },
 "nbformat": 4,
 "nbformat_minor": 2
}
